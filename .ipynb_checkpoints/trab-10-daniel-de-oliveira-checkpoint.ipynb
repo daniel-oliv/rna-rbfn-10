{
 "cells": [
  {
   "cell_type": "code",
   "execution_count": 1,
   "metadata": {},
   "outputs": [],
   "source": [
    "import numpy as np\n",
    "import math\n",
    "import matplotlib.pyplot as plt\n",
    "import random\n",
    "import csv"
   ]
  },
  {
   "cell_type": "code",
   "execution_count": 2,
   "metadata": {},
   "outputs": [],
   "source": [
    "def toRange(arr, min, max):\n",
    "    return arr*(max-min)+min;\n",
    "\n",
    "def randInRange(min, max, shape = 1):\n",
    "    num = np.random.random(shape)\n",
    "    return num*(max-min)+min;"
   ]
  },
  {
   "cell_type": "code",
   "execution_count": 3,
   "metadata": {},
   "outputs": [],
   "source": [
    "def readCsvNpArray(filename):\n",
    "    data = np.genfromtxt(filename, delimiter='  ')\n",
    "    return data\n"
   ]
  },
  {
   "cell_type": "code",
   "execution_count": 4,
   "metadata": {
    "scrolled": true
   },
   "outputs": [
    {
     "data": {
      "text/plain": [
       "array([[-1.  , -1.8 ],\n",
       "       [-0.91, -1.77],\n",
       "       [-0.81, -1.51],\n",
       "       [-0.71, -1.08],\n",
       "       [-0.62, -0.54],\n",
       "       [-0.53, -0.01],\n",
       "       [-0.43,  0.42],\n",
       "       [-0.33,  0.67],\n",
       "       [-0.24,  0.69],\n",
       "       [-0.15,  0.52],\n",
       "       [-0.05,  0.2 ],\n",
       "       [ 0.04, -0.18],\n",
       "       [ 0.14, -0.5 ],\n",
       "       [ 0.24, -0.69],\n",
       "       [ 0.33, -0.67],\n",
       "       [ 0.43, -0.44],\n",
       "       [ 0.52, -0.02],\n",
       "       [ 0.61,  0.51],\n",
       "       [ 0.71,  1.05],\n",
       "       [ 0.8 ,  1.49],\n",
       "       [ 0.9 ,  1.76],\n",
       "       [ 1.  ,  1.8 ]])"
      ]
     },
     "execution_count": 4,
     "metadata": {},
     "output_type": "execute_result"
    }
   ],
   "source": [
    "trainSet = readCsvNpArray(r'../RBF_observacoes.txt')\n",
    "trainSet"
   ]
  },
  {
   "cell_type": "code",
   "execution_count": 5,
   "metadata": {},
   "outputs": [
    {
     "data": {
      "text/plain": [
       "array([[-1.  ],\n",
       "       [-0.91],\n",
       "       [-0.81],\n",
       "       [-0.71],\n",
       "       [-0.62],\n",
       "       [-0.53],\n",
       "       [-0.43],\n",
       "       [-0.33],\n",
       "       [-0.24],\n",
       "       [-0.15],\n",
       "       [-0.05],\n",
       "       [ 0.04],\n",
       "       [ 0.14],\n",
       "       [ 0.24],\n",
       "       [ 0.33],\n",
       "       [ 0.43],\n",
       "       [ 0.52],\n",
       "       [ 0.61],\n",
       "       [ 0.71],\n",
       "       [ 0.8 ],\n",
       "       [ 0.9 ],\n",
       "       [ 1.  ]])"
      ]
     },
     "execution_count": 5,
     "metadata": {},
     "output_type": "execute_result"
    }
   ],
   "source": [
    "nIns = trainSet.shape[1]-1 # última coluna é apenas target/y\n",
    "inputs = trainSet[:,0:nIns]\n",
    "inputs"
   ]
  },
  {
   "cell_type": "code",
   "execution_count": 6,
   "metadata": {},
   "outputs": [
    {
     "data": {
      "text/plain": [
       "array([[-1.8 ],\n",
       "       [-1.77],\n",
       "       [-1.51],\n",
       "       [-1.08],\n",
       "       [-0.54],\n",
       "       [-0.01],\n",
       "       [ 0.42],\n",
       "       [ 0.67],\n",
       "       [ 0.69],\n",
       "       [ 0.52],\n",
       "       [ 0.2 ],\n",
       "       [-0.18],\n",
       "       [-0.5 ],\n",
       "       [-0.69],\n",
       "       [-0.67],\n",
       "       [-0.44],\n",
       "       [-0.02],\n",
       "       [ 0.51],\n",
       "       [ 1.05],\n",
       "       [ 1.49],\n",
       "       [ 1.76],\n",
       "       [ 1.8 ]])"
      ]
     },
     "execution_count": 6,
     "metadata": {},
     "output_type": "execute_result"
    }
   ],
   "source": [
    "targets = trainSet[:,-1:]\n",
    "targets"
   ]
  },
  {
   "cell_type": "code",
   "execution_count": 7,
   "metadata": {},
   "outputs": [
    {
     "data": {
      "text/plain": [
       "array([[-1.  , -0.91, -0.81, -0.71, -0.62, -0.53, -0.43, -0.33, -0.24,\n",
       "        -0.15, -0.05,  0.04,  0.14,  0.24,  0.33,  0.43,  0.52,  0.61,\n",
       "         0.71,  0.8 ,  0.9 ,  1.  ],\n",
       "       [-1.8 , -1.77, -1.51, -1.08, -0.54, -0.01,  0.42,  0.67,  0.69,\n",
       "         0.52,  0.2 , -0.18, -0.5 , -0.69, -0.67, -0.44, -0.02,  0.51,\n",
       "         1.05,  1.49,  1.76,  1.8 ]])"
      ]
     },
     "execution_count": 7,
     "metadata": {},
     "output_type": "execute_result"
    }
   ],
   "source": [
    "transposedSet = trainSet.transpose()\n",
    "transposedSet"
   ]
  },
  {
   "cell_type": "code",
   "execution_count": 8,
   "metadata": {
    "scrolled": true
   },
   "outputs": [],
   "source": [
    "nOuts = 1"
   ]
  },
  {
   "cell_type": "code",
   "execution_count": 9,
   "metadata": {
    "scrolled": false
   },
   "outputs": [
    {
     "data": {
      "image/png": "[encoded data removed]",
      "text/plain": [
       "<Figure size 432x288 with 1 Axes>"
      ]
     },
     "metadata": {
      "needs_background": "light"
     },
     "output_type": "display_data"
    }
   ],
   "source": [
    "plt.plot(trainSet[:,0],trainSet[:,1],'-o', color='green')\n",
    "plt.title(\"X x Y\")\n",
    "plt.show()"
   ]
  },
  {
   "cell_type": "code",
   "execution_count": 10,
   "metadata": {},
   "outputs": [
    {
     "data": {
      "text/plain": [
       "array([[0.5, 1. ],\n",
       "       [1. , 2. ]])"
      ]
     },
     "execution_count": 10,
     "metadata": {},
     "output_type": "execute_result"
    }
   ],
   "source": [
    "np.sort(np.array([[1,2],[0.5,1]]), axis=0)"
   ]
  },
  {
   "cell_type": "code",
   "execution_count": 11,
   "metadata": {},
   "outputs": [],
   "source": [
    "class KMeans(object):\n",
    "\n",
    "    def __init__(self, k, vecs):\n",
    "        # matriz de pesos tranposta.\n",
    "        self.vecs = vecs.copy()\n",
    "        self.k = k # número de centroids\n",
    "        self.nInputs = self.vecs.shape[0] # número de entradas N\n",
    "        self.initCentroids()\n",
    "        self.train()        \n",
    "        \n",
    "    def initCentroids(self):\n",
    "        #         self.weights = toRange(np.random.rand(nOuts, nIns),1,-1)\n",
    "        indexes = np.random.randint(0,self.vecs.shape[0],self.k) # same as indexes = np.random.choice(x.shape[0], size=(10,))\n",
    "#         print('indexes')\n",
    "#         print(indexes)\n",
    "        self.centroids = self.vecs[indexes] # advanced indexing always copy the array, so np.copy is optional\n",
    "#         print('centroids')\n",
    "#         print(self.centroids)\n",
    "        \n",
    "    def getNearestUnit(self, x):\n",
    "        jmin = 0\n",
    "        distMin = self.calcDist(x, jmin)\n",
    "        \n",
    "        for j in range(self.k):\n",
    "            dist = self.calcDist(x, j)\n",
    "            if dist < distMin:\n",
    "                distMin = dist\n",
    "                jmin = j\n",
    "        return jmin\n",
    "    \n",
    "    def getCentroidIndexes(self):\n",
    "        bJmins = np.empty(self.nInputs, dtype=int)\n",
    "        for i in range(self.nInputs):\n",
    "            x = self.vecs[i]\n",
    "            jmin = self.getNearestUnit(x)\n",
    "            bJmins[i] = jmin\n",
    "        return bJmins\n",
    "    \n",
    "    def calcDist(self, x, j):\n",
    "        cj = self.centroids[j]       \n",
    "        distances = (cj-x)**2\n",
    "        total_dist = np.sum(distances)\n",
    "        return total_dist\n",
    "    \n",
    "    def train(self):\n",
    "        changed = True\n",
    "        self.epoch = 0\n",
    "        mins = self.getCentroidIndexes()\n",
    "        preMins = np.empty(self.nInputs)\n",
    "        while changed: #self.epoch <= self.maxEpoch:\n",
    "#             np.random.shuffle(self.vecs)\n",
    "            self.epoch += 1\n",
    "            print('kMeans epoch - ' + str(self.epoch))\n",
    "            preMins = mins\n",
    "            \n",
    "            counts = np.zeros(self.k)\n",
    "            sums = np.zeros_like(self.centroids)\n",
    "            for i in range(self.nInputs):\n",
    "                j = mins[i]\n",
    "                x = self.vecs[i]\n",
    "                counts[j] += 1\n",
    "                sums[j] += x\n",
    "            for j in range(self.k):\n",
    "                s = sums[j]\n",
    "                c = counts[j]\n",
    "                self.centroids[j] = s/c if c != 0 else self.centroids[j]\n",
    "            mins = self.getCentroidIndexes()\n",
    "            #compare next clusters indexes\n",
    "            changed = not np.array_equal(mins, preMins)\n",
    "        self.inputCjIndexes = self.getCentroidIndexes()\n",
    "        ##################!!!!!!!!!!!!!!!! COMMENT THIS FOR MORE DIMENSIONS!!!!!!\n",
    "        self.centroids = self.centroids[self.centroids[:,0].argsort()]\n",
    "        print('centroids')\n",
    "        print(self.centroids)"
   ]
  },
  {
   "cell_type": "code",
   "execution_count": 58,
   "metadata": {
    "scrolled": true
   },
   "outputs": [
    {
     "name": "stdout",
     "output_type": "stream",
     "text": [
      "kMeans epoch - 1\n",
      "kMeans epoch - 2\n",
      "centroids\n",
      "[[-0.76333333]\n",
      " [-0.2875    ]\n",
      " [-0.005     ]\n",
      " [ 0.23666667]\n",
      " [ 0.43      ]\n",
      " [ 0.52      ]\n",
      " [ 0.61      ]\n",
      " [ 0.755     ]\n",
      " [ 0.95      ]]\n"
     ]
    }
   ],
   "source": [
    "kmeans = KMeans(9, inputs) ## try pass the outputs together and implement kMeans++\n",
    "centroids = kmeans.centroids"
   ]
  },
  {
   "cell_type": "code",
   "execution_count": 59,
   "metadata": {
    "scrolled": false
   },
   "outputs": [
    {
     "data": {
      "image/png": "[encoded data removed]",
      "text/plain": [
       "<Figure size 432x288 with 1 Axes>"
      ]
     },
     "metadata": {
      "needs_background": "light"
     },
     "output_type": "display_data"
    }
   ],
   "source": [
    "plt.plot(trainSet[:,0],trainSet[:,1],'-o', color='green')\n",
    "plt.title(\"X x Y\")\n",
    "plt.plot(centroids[:,0],np.zeros_like(centroids[:,0]),'o', color='red')\n",
    "plt.title(\"X x Y\")\n",
    "plt.show()"
   ]
  },
  {
   "cell_type": "code",
   "execution_count": 60,
   "metadata": {},
   "outputs": [
    {
     "name": "stdout",
     "output_type": "stream",
     "text": [
      "sds\n",
      "[0.47583333 0.2825     0.24166667 0.19333333 0.09       0.09\n",
      " 0.09       0.145      0.195     ]\n"
     ]
    }
   ],
   "source": [
    "def nearestMeanDist(vecs, listLen):\n",
    "    numVecs = vecs.shape[0]\n",
    "    meanDists = np.empty(vecs.shape[0])\n",
    "#     print('vecs')\n",
    "#     print(vecs)\n",
    "    for i in range(numVecs):\n",
    "        vec = vecs[i]\n",
    "        dists = np.linalg.norm(vec - vecs, axis=1)\n",
    "#         sortedIndexes = dists.argsort()\n",
    "#         print('dists')\n",
    "#         print(dists)\n",
    "#         print('sortedIndexes')\n",
    "#         print(sortedIndexes)\n",
    "#         nearest = vecs[sortedIndexes][:listLen]\n",
    "#         print('nearest')\n",
    "#         print(nearest)\n",
    "        ## já que preciso calcular a média das distâncias dos mais próximos, então já uso distances\n",
    "        ## somar 1 para tirar o próprio ponto\n",
    "        dists.sort()\n",
    "        nearestDists = dists[dists>0][:listLen]\n",
    "#         print('nearestDists')\n",
    "#         print(nearestDists)\n",
    "#         print('dists')\n",
    "#         print(dists)\n",
    "        meanDists[i] = nearestDists.mean()\n",
    "    return meanDists;\n",
    "        \n",
    "\n",
    "def calcSds(centroids):# há várias formas de fazer isso -> desvio padrão dos dados, distância entre clusters vizinhos e etc\n",
    "    # by mean distance of the nearest neighbors centroids -> falam dois vizinhos, mas acho que a dimensão conta demais! 1D basta 1 - o mais próximo\n",
    "    sds = nearestMeanDist(centroids, 1)\n",
    "    return sds\n",
    "    \n",
    "sds = calcSds(centroids)\n",
    "print('sds')\n",
    "print(sds)"
   ]
  },
  {
   "cell_type": "code",
   "execution_count": 61,
   "metadata": {},
   "outputs": [],
   "source": [
    "class RBFN(object):\n",
    "\n",
    "    def __init__(self, nIns, nOuts, learningRate, maxEpoch, centroids, sds):\n",
    "        self.nIns = nIns\n",
    "        self.nHidden = centroids.shape[0]\n",
    "        self.nOuts = nOuts\n",
    "        # matriz de pesos tranposta.\n",
    "        self.learningRate = learningRate\n",
    "        self.maxEpoch = maxEpoch\n",
    "        self.initWeights()\n",
    "        self.centroids = centroids # médias das gaussinas\n",
    "        self.sds = sds # desvio padrão das gaussianas\n",
    "        \n",
    "        \n",
    "    def initWeights(self):\n",
    "        self.weights = toRange(np.random.rand(nOuts, nHidden),-0.1,0.1) ###! mudar para -0.1 e 0.1 or 0\n",
    "        self.b = np.zeros(nOuts)\n",
    "        print('self.weights')\n",
    "        print(self.weights)\n",
    "        \n",
    "    def calcYOut(self, hiddenOut):\n",
    "#         print('hiddenOut')\n",
    "#         print(hiddenOut)\n",
    "#         print('self.weights')\n",
    "#         print(self.weights)\n",
    "#         print('np.sum(hiddenOut * self.weights, axis=1)')\n",
    "#         print(np.sum(hiddenOut * self.weights, axis=1))\n",
    "#         print('self.b')\n",
    "#         print(self.b)\n",
    "        y_ins = np.sum(hiddenOut * self.weights, axis=1) + self.b\n",
    "#         print('y_ins')\n",
    "#         print(y_ins)\n",
    "        ### função de ativação foi a identidade\n",
    "        ys = y_ins\n",
    "        return ys\n",
    "        \n",
    "        \n",
    "    def trainStaticFunctionParams(self, inputs, targets):\n",
    "#         getFuncsOuts = lambda : self.funcsOuts \n",
    "        numSamples = inputs.shape[0]\n",
    "        self.epoch = 0\n",
    "        self.targets = targets\n",
    "        self.calcFuncsOut(inputs)\n",
    "        indexes = np.arange(numSamples)\n",
    "        self.errors = np.zeros(self.maxEpoch)\n",
    "#         fig, line1 = self.initGraph()\n",
    "        \n",
    "        while self.epoch < self.maxEpoch:\n",
    "            np.random.shuffle(indexes)\n",
    "            # TODO - implement batch updating\n",
    "            currentCentroidsOuts = self.funcsOuts[indexes]\n",
    "            currentTargets = targets[indexes]\n",
    "            epoch_error = 0\n",
    "            for i in range(numSamples):\n",
    "                z = currentCentroidsOuts[i]\n",
    "#                 print('z')\n",
    "#                 print(z)\n",
    "                t = currentTargets[i]\n",
    "                ys = self.calcYOut(z)\n",
    "#                 print('t')\n",
    "#                 print(t)\n",
    "                error = (t - ys)\n",
    "                delWs = self.learningRate * error * z\n",
    "                delB = self.learningRate * error\n",
    "#                 print('delWs')\n",
    "#                 print(delWs)\n",
    "                self.weights += delWs\n",
    "                self.b += delB              \n",
    "                \n",
    "                ###! keep the outs for better performance\n",
    "                posYs = self.calcYOut(z)\n",
    "                posError = (t - posYs)\n",
    "                sqrError = error**2\n",
    "                epoch_error += sqrError\n",
    "            self.errors[self.epoch] = epoch_error\n",
    "#             self.updateGraph(fig, line1)\n",
    "#             if self.epoch % 10 == 0:\n",
    "#                 print('epoch_error')\n",
    "#                 print(epoch_error)\n",
    "            \n",
    "            self.epoch+=1\n",
    "        self.drawErrorGraph()\n",
    "        estimations = np.empty(numSamples)\n",
    "        for i in range(numSamples):\n",
    "            z = self.funcsOuts[i]\n",
    "            ys = self.calcYOut(z)\n",
    "            estimations[i] = ys[0]\n",
    "        self.drawEstimation(estimations)\n",
    "    \n",
    "    def drawErrorGraph(self):\n",
    "        plt.plot(np.arange(0,self.maxEpoch),self.errors,'-', color='green')\n",
    "        plt.title(\"Erro a cada época\")\n",
    "        plt.show()\n",
    "        \n",
    "    def drawEstimation(self, estimations):\n",
    "        print('estimations')\n",
    "        print(estimations)\n",
    "        plt.plot(trainSet[:,0],trainSet[:,1],'-o', color='green')\n",
    "        plt.title(\"X x Y\")\n",
    "        plt.plot(trainSet[:,0],estimations,'-o', color='darkred')\n",
    "        plt.show()\n",
    "    \n",
    "    def initGraph(self):\n",
    "        plt.ion()\n",
    "        fig = plt.figure()\n",
    "        ax = fig.add_subplot(111)\n",
    "        line1, = ax.plot(np.arange(0,self.maxEpoch),self.errors, 'b-')\n",
    "        return fig, line1\n",
    "    \n",
    "    def updateGraph(self, fig, line1):\n",
    "        plt.ion()\n",
    "        line1.set_ydata(self.errors)\n",
    "        fig.canvas.draw()\n",
    "    \n",
    "    def calcFuncsOut(self, inputs):\n",
    "        self.funcsOuts = np.apply_along_axis(self.calcCentroidsOuts,1, inputs)\n",
    "        return self.funcsOuts\n",
    "    \n",
    "    def calcCentroidsOuts(self, x): ###! add term to normalize probabilities\n",
    "        return np.exp(-1/(2*sds) * np.sum((x-self.centroids)**2, axis=1))"
   ]
  },
  {
   "cell_type": "code",
   "execution_count": 62,
   "metadata": {},
   "outputs": [],
   "source": [
    "nHidden = centroids.shape[0]\n",
    "learningRate = 0.05\n",
    "maxEpoch = 200"
   ]
  },
  {
   "cell_type": "code",
   "execution_count": 63,
   "metadata": {},
   "outputs": [
    {
     "name": "stdout",
     "output_type": "stream",
     "text": [
      "self.weights\n",
      "[[ 0.06714767  0.05255433  0.08989952 -0.01882382  0.00428532  0.0834763\n",
      "   0.08416499 -0.0763409   0.01267678]]\n"
     ]
    },
    {
     "data": {
      "text/plain": [
       "array([1.00000000e+00, 6.69825069e-01, 3.04282464e-01, 7.53051392e-02,\n",
       "       3.66556450e-04, 1.06252592e-04, 2.81482692e-05, 3.52861522e-04,\n",
       "       5.38376964e-04])"
      ]
     },
     "execution_count": 63,
     "metadata": {},
     "output_type": "execute_result"
    }
   ],
   "source": [
    "net = RBFN(nIns, nOuts, learningRate, maxEpoch, centroids, sds)\n",
    "net.calcCentroidsOuts(net.centroids[0])"
   ]
  },
  {
   "cell_type": "code",
   "execution_count": 64,
   "metadata": {
    "scrolled": false
   },
   "outputs": [
    {
     "data": {
      "image/png": "[encoded data removed]",
      "text/plain": [
       "<Figure size 432x288 with 1 Axes>"
      ]
     },
     "metadata": {
      "needs_background": "light"
     },
     "output_type": "display_data"
    },
    {
     "name": "stdout",
     "output_type": "stream",
     "text": [
      "estimations\n",
      "[-1.86607259 -1.61548967 -1.26816393 -0.86779343 -0.48735529 -0.11768153\n",
      "  0.24001057  0.49561083  0.60182722  0.56731731  0.36130422  0.05725678\n",
      " -0.3259915  -0.62456297 -0.70566795 -0.51045148 -0.09034411  0.47317496\n",
      "  1.10959653  1.5539811   1.80441767  1.77708219]\n"
     ]
    },
    {
     "data": {
      "image/png": "[encoded data removed]",
      "text/plain": [
       "<Figure size 432x288 with 1 Axes>"
      ]
     },
     "metadata": {
      "needs_background": "light"
     },
     "output_type": "display_data"
    }
   ],
   "source": [
    "net.trainStaticFunctionParams(inputs, targets)"
   ]
  },
  {
   "cell_type": "code",
   "execution_count": null,
   "metadata": {},
   "outputs": [],
   "source": []
  }
 ],
 "metadata": {
  "kernelspec": {
   "display_name": "Python 3",
   "language": "python",
   "name": "python3"
  },
  "language_info": {
   "codemirror_mode": {
    "name": "ipython",
    "version": 3
   },
   "file_extension": ".py",
   "mimetype": "text/x-python",
   "name": "python",
   "nbconvert_exporter": "python",
   "pygments_lexer": "ipython3",
   "version": "3.7.9"
  }
 },
 "nbformat": 4,
 "nbformat_minor": 4
}
